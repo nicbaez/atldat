{
 "cells": [
  {
   "cell_type": "code",
   "execution_count": 1,
   "metadata": {
    "collapsed": true
   },
   "outputs": [],
   "source": [
    "import pandas as pd\n",
    "import numpy as np \n",
    "import statsmodels.formula.api as sm\n",
    "from sklearn.linear_model import LinearRegression \n",
    "import scipy, scipy.stats\n",
    "\n",
    "def read_csv_file(path):\n",
    "   df = pd.read_csv(path) \n",
    "   return(df) \n",
    "\n",
    "path = \"./DeltaDS1.csv\""
   ]
  },
  {
   "cell_type": "code",
   "execution_count": 2,
   "metadata": {
    "collapsed": true
   },
   "outputs": [],
   "source": [
    "table = read_csv_file(path)"
   ]
  },
  {
   "cell_type": "code",
   "execution_count": 3,
   "metadata": {
    "collapsed": false
   },
   "outputs": [
    {
     "data": {
      "text/html": [
       "<div>\n",
       "<table border=\"1\" class=\"dataframe\">\n",
       "  <thead>\n",
       "    <tr style=\"text-align: right;\">\n",
       "      <th></th>\n",
       "      <th>Unique Visitors</th>\n",
       "      <th>Average Page Depth</th>\n",
       "      <th>Flight Searches</th>\n",
       "      <th>Fare Change Error</th>\n",
       "      <th>Revenue</th>\n",
       "    </tr>\n",
       "  </thead>\n",
       "  <tbody>\n",
       "    <tr>\n",
       "      <th>0</th>\n",
       "      <td>695045</td>\n",
       "      <td>19</td>\n",
       "      <td>540686</td>\n",
       "      <td>514</td>\n",
       "      <td>22403850</td>\n",
       "    </tr>\n",
       "    <tr>\n",
       "      <th>1</th>\n",
       "      <td>747063</td>\n",
       "      <td>19</td>\n",
       "      <td>557525</td>\n",
       "      <td>537</td>\n",
       "      <td>22632654</td>\n",
       "    </tr>\n",
       "    <tr>\n",
       "      <th>2</th>\n",
       "      <td>1108106</td>\n",
       "      <td>14</td>\n",
       "      <td>873056</td>\n",
       "      <td>1034</td>\n",
       "      <td>37367126</td>\n",
       "    </tr>\n",
       "    <tr>\n",
       "      <th>3</th>\n",
       "      <td>1104659</td>\n",
       "      <td>15</td>\n",
       "      <td>917531</td>\n",
       "      <td>1259</td>\n",
       "      <td>42414291</td>\n",
       "    </tr>\n",
       "    <tr>\n",
       "      <th>4</th>\n",
       "      <td>1124734</td>\n",
       "      <td>15</td>\n",
       "      <td>895169</td>\n",
       "      <td>1349</td>\n",
       "      <td>41818597</td>\n",
       "    </tr>\n",
       "  </tbody>\n",
       "</table>\n",
       "</div>"
      ],
      "text/plain": [
       "   Unique Visitors  Average Page Depth  Flight Searches  Fare Change Error  \\\n",
       "0           695045                  19           540686                514   \n",
       "1           747063                  19           557525                537   \n",
       "2          1108106                  14           873056               1034   \n",
       "3          1104659                  15           917531               1259   \n",
       "4          1124734                  15           895169               1349   \n",
       "\n",
       "    Revenue  \n",
       "0  22403850  \n",
       "1  22632654  \n",
       "2  37367126  \n",
       "3  42414291  \n",
       "4  41818597  "
      ]
     },
     "execution_count": 3,
     "metadata": {},
     "output_type": "execute_result"
    }
   ],
   "source": [
    "table.head()"
   ]
  },
  {
   "cell_type": "code",
   "execution_count": 4,
   "metadata": {
    "collapsed": false
   },
   "outputs": [
    {
     "name": "stdout",
     "output_type": "stream",
     "text": [
      "       Unique Visitors  Average Page Depth  Flight Searches  \\\n",
      "count       729.000000          729.000000       729.000000   \n",
      "mean     936209.371742           10.582990    842155.670782   \n",
      "std      173220.413485            1.379416    205079.734007   \n",
      "min      484600.000000            8.000000    352162.000000   \n",
      "25%      797245.000000            9.000000    684891.000000   \n",
      "50%      973941.000000           11.000000    868606.000000   \n",
      "75%     1072905.000000           11.000000    999448.000000   \n",
      "max     1345858.000000           19.000000   1340024.000000   \n",
      "\n",
      "       Fare Change Error          Revenue  \n",
      "count          729.00000       729.000000  \n",
      "mean           791.72428  33125832.005487  \n",
      "std            608.82406   9607668.997537  \n",
      "min              0.00000   7806047.000000  \n",
      "25%            471.00000  24564590.000000  \n",
      "50%            686.00000  34909738.000000  \n",
      "75%            997.00000  40923118.000000  \n",
      "max           8083.00000  55693374.000000  \n"
     ]
    }
   ],
   "source": [
    "print table.describe()"
   ]
  },
  {
   "cell_type": "markdown",
   "metadata": {},
   "source": [
    "# 1. Problem Statement\n",
    "#### We are interested in seeing whether or not there is a relationship within the cross-sectional UCLA data \n",
    "#### to determine the relationship between and effect on admissions into the school and various application scores. We will measure if applicants with higher  \n",
    "#### GRE, GPA and rank/prestige scores increase the chances of being admitted. The time-frame of the data is unknown, \n",
    "#### which limits relevancy of the outcomes.\n",
    "\n",
    "#### Hypothesis: Students with higher ovdrall scores are more likely admitted into UCLA. However, other factors not included in \n",
    "#### the data set like time frame, gender, major, demographic and work experience which add weight to an applicant \n",
    "#### which would add more depth and breadth to the test results. \n"
   ]
  },
  {
   "cell_type": "markdown",
   "metadata": {},
   "source": [
    "# 2. What is the intended question you want to answer and what is the outcome?\n",
    "#### Determine the association between the predictors gre, gpa, rank and admission entrance into UCLA. \n",
    "#### The outcome is admit 1 or 0, yes or no. \n",
    "#### The response variable, admit/don't admit, is a binary variabable."
   ]
  },
  {
   "cell_type": "markdown",
   "metadata": {},
   "source": [
    "# What are the predictors and covariates which determine admissions into UCLA?\n",
    "#### By only using the data available, we can try to determine how admission varies based on GRE scores, \n",
    "#### GPA, and prestige/rank. "
   ]
  },
  {
   "cell_type": "markdown",
   "metadata": {},
   "source": [
    "# 3. What timeframe is this data relevant for?\n",
    "#### Unknown, the data did not include a date. - Follow up on this?"
   ]
  },
  {
   "cell_type": "markdown",
   "metadata": {},
   "source": [
    "# 4. What is the hypothesis about the students admitted into UCLA?\n",
    "#### Predictors/covariates are components included in a total weighted score that the admissions board uses \n",
    "#### as a benchmark for admissions applications.\n",
    "#### However, the prestige score is based on factors that are unknown and the admissions data does not include additional \n",
    "#### context about the student that also such as when they applied, their work experience, what program they applied for, \n",
    "#### recommendations and gender/background which may also influence how admissions \n",
    "#### builds the composition of the entering graduate class. \n"
   ]
  },
  {
   "cell_type": "markdown",
   "metadata": {},
   "source": [
    "# 5. Data Dictionary: UCLA Admissions \n",
    "\n",
    "\n",
    "Variable | Description | Type of Variable\n",
    "---| ---| ---\n",
    "Admit | Integer - Admissions outcome yes/no, binary whether a student admitted  | categorical\n",
    "GRE | Integer - Integer Graduate exam score | continuous\n",
    "GPA | Integer - Grade point average | continuous \n",
    "Rank Prestige | Integer - Alma Mater | categorical\n",
    " \n",
    "\n"
   ]
  },
  {
   "cell_type": "markdown",
   "metadata": {},
   "source": [
    "## 6. What are the risks and assumptions of the data set?\n",
    "\n",
    "#### Data is missing additional contextual and demographic data is lacking from the data set. This includes time \n",
    "#### frame/date the data was collected, what major or program they are applying for, what factors \n",
    "#### are included in creating the prestige score"
   ]
  },
  {
   "cell_type": "markdown",
   "metadata": {},
   "source": [
    "## 7. Exploratory Analysis of UCLA data set: Loading Data, summary stats, regression and results\n"
   ]
  },
  {
   "cell_type": "markdown",
   "metadata": {},
   "source": [
    "#### This dataset has a binary response yes or no (outcome, dependent) variable called admit. There are three predictor variables: gre, gpa and rank. The variables gre and gpa as continuous. The variable rank takes on the values 1 through 4. Institutions with a rank of 1 have the highest prestige, while those with a rank of 4 have the lowest. By using describe () below, we can see a high level overview of what our data set is."
   ]
  },
  {
   "cell_type": "code",
   "execution_count": null,
   "metadata": {
    "collapsed": true
   },
   "outputs": [],
   "source": [
    "### Analysis Exploration Steps:\n",
    "#### We have a data set who’s independent variables (predictors) are various scores, \n",
    "#### each candidate with an admit (0,1) has an associated set of predictors GRE, Rank/Prestige and GPA. \n",
    "#### By using pylab, statsmodel or even a logistal regression package one can test the differences \n",
    "#### between rank against admission and other hypotheses to understand what the effect of each \n",
    "#### variable is on admit."
   ]
  },
  {
   "cell_type": "code",
   "execution_count": 18,
   "metadata": {
    "collapsed": false
   },
   "outputs": [],
   "source": [
    "import pandas as pd\n",
    "import statsmodels.api as sm\n",
    "import pylab as pl\n",
    "import numpy as np # you dont need to reimport classes within the same notebook"
   ]
  },
  {
   "cell_type": "code",
   "execution_count": 4,
   "metadata": {
    "collapsed": true
   },
   "outputs": [],
   "source": [
    "In [2]: import matplotlib.pyplot as plt\n",
    "In [3]: import matplotlib.image as mpimg\n",
    "In [4]: import numpy as np"
   ]
  },
  {
   "cell_type": "code",
   "execution_count": 5,
   "metadata": {
    "collapsed": false
   },
   "outputs": [
    {
     "name": "stdout",
     "output_type": "stream",
     "text": [
      "Index([u'admit', u'gre', u'gpa', u'prestige'], dtype='object')\n"
     ]
    }
   ],
   "source": [
    "table.columns = [\"admit\", \"gre\", \"gpa\", \"prestige\"]\n",
    "print table.columns"
   ]
  },
  {
   "cell_type": "code",
   "execution_count": 6,
   "metadata": {
    "collapsed": false
   },
   "outputs": [
    {
     "name": "stdout",
     "output_type": "stream",
     "text": [
      "   admit  gre   gpa  prestige\n",
      "0      0  380  3.61         3\n",
      "1      1  660  3.67         3\n",
      "2      1  800  4.00         1\n",
      "3      1  640  3.19         4\n",
      "4      0  520  2.93         4\n"
     ]
    }
   ],
   "source": [
    "print table.head()"
   ]
  },
  {
   "cell_type": "markdown",
   "metadata": {},
   "source": [
    "#### Summary of the table\n",
    "###### Below we see that 400 observations in our data set can be used in the analysis. \n",
    "###### Coefficients  GRE and GPA"
   ]
  },
  {
   "cell_type": "code",
   "execution_count": 7,
   "metadata": {
    "collapsed": false,
    "scrolled": true
   },
   "outputs": [
    {
     "name": "stdout",
     "output_type": "stream",
     "text": [
      "            admit         gre        gpa    prestige\n",
      "count  400.000000  398.000000  398.00000  399.000000\n",
      "mean     0.317500  588.040201    3.39093    2.486216\n",
      "std      0.466087  115.628513    0.38063    0.945333\n",
      "min      0.000000  220.000000    2.26000    1.000000\n",
      "25%      0.000000  520.000000    3.13000    2.000000\n",
      "50%      0.000000  580.000000    3.39500    2.000000\n",
      "75%      1.000000  660.000000    3.67000    3.000000\n",
      "max      1.000000  800.000000    4.00000    4.000000\n"
     ]
    }
   ],
   "source": [
    "print table.describe()"
   ]
  },
  {
   "cell_type": "code",
   "execution_count": null,
   "metadata": {
    "collapsed": true
   },
   "outputs": [],
   "source": [
    "df_admit = df[ df[\"admit\"] == 1 ] "
   ]
  },
  {
   "cell_type": "code",
   "execution_count": null,
   "metadata": {
    "collapsed": true
   },
   "outputs": [],
   "source": [
    "df_no_admit = df[ df[\"admit\"] == 0 ] "
   ]
  },
  {
   "cell_type": "code",
   "execution_count": null,
   "metadata": {
    "collapsed": true
   },
   "outputs": [],
   "source": [
    "df_admit.describe() "
   ]
  }
 ],
 "metadata": {
  "kernelspec": {
   "display_name": "Python 2",
   "language": "python",
   "name": "python2"
  },
  "language_info": {
   "codemirror_mode": {
    "name": "ipython",
    "version": 2
   },
   "file_extension": ".py",
   "mimetype": "text/x-python",
   "name": "python",
   "nbconvert_exporter": "python",
   "pygments_lexer": "ipython2",
   "version": "2.7.11"
  }
 },
 "nbformat": 4,
 "nbformat_minor": 0
}
