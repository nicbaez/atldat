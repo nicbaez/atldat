{
 "cells": [
  {
   "cell_type": "markdown",
   "metadata": {},
   "source": [
    "# MD Anderson - Site Engagement to Increase Screenings"
   ]
  },
  {
   "cell_type": "markdown",
   "metadata": {},
   "source": [
    "Project Problem and Hypothesis"
   ]
  },
  {
   "cell_type": "markdown",
   "metadata": {},
   "source": [
    "What's the project about? What problem are you solving?\n",
    "\n",
    "Cancer reasearch publications, doctors and cancer survivors all agree and urge that early screening and detection is by far the most important driver to saving lives and easing cancer treatment. \n",
    "This project is using MD Anderson site traffic data to determine how to increase engagement with important conversion points on the site that drive referral and appointments. \n",
    "\n",
    "\n",
    "Where does this seem to reside as a machine learning problem? Are you predicting some continuous number, or predicting a binary value?\n",
    "\n",
    "Predicting a continuous number over a time series. I want to predict the relationship between the CTA (call to action) \"Request an Appointment\" and site traffic referral types (initially). \n",
    "\n",
    "\n",
    "\n",
    "What kind of impact do you think it could have?\n",
    "What do you think will have the most impact in predicting the value you are interested in solving for?\n",
    "\n",
    "I have recently been transferred to a new client, MD Anderson Research Center based in Houston and believe understanding the relationship between site traffice design, referral types and possibly testing more copy and CTA methods. "
   ]
  },
  {
   "cell_type": "markdown",
   "metadata": {},
   "source": [
    "Dataset"
   ]
  },
  {
   "cell_type": "code",
   "execution_count": 28,
   "metadata": {
    "collapsed": false,
    "scrolled": true
   },
   "outputs": [],
   "source": [
    "import pandas as pd\n",
    "import sklearn.linear_model as lm\n",
    "import matplotlib.pyplot as plt\n",
    "import pandas as pd\n",
    "from sklearn.linear_model import LogisticRegression\n",
    "import numpy as np\n",
    "import matplotlib.pyplot as plt\n",
    "import statsmodels.api as sm\n",
    "import pylab as pl\n",
    "from numpy.random import randn\n",
    "%matplotlib inline\n",
    "\n",
    "data = pd.read_csv('./omnituremda.csv')\n"
   ]
  },
  {
   "cell_type": "code",
   "execution_count": 29,
   "metadata": {
    "collapsed": true
   },
   "outputs": [],
   "source": [
    "lm = LogisticRegression()"
   ]
  },
  {
   "cell_type": "code",
   "execution_count": 30,
   "metadata": {
    "collapsed": false
   },
   "outputs": [
    {
     "name": "stdout",
     "output_type": "stream",
     "text": [
      "       Date Site Visitors   Search Engine  Direct Entry  Other Websites  \\\n",
      "0  1-Jan-16         24,398             16            20               1   \n",
      "1  2-Jan-16         25,723             20            15               4   \n",
      "2  3-Jan-16         30,018             22            18               4   \n",
      "3  4-Jan-16         52,082             77           102              12   \n",
      "4  5-Jan-16         55,670             78            87               7   \n",
      "\n",
      "   Social Networks  RA CTA  Donated  \n",
      "0                2      57       28  \n",
      "1                0      52       33  \n",
      "2                1      62       21  \n",
      "3                1     247       30  \n",
      "4                1     242       30  \n"
     ]
    }
   ],
   "source": [
    "print data.head()"
   ]
  },
  {
   "cell_type": "code",
   "execution_count": 31,
   "metadata": {
    "collapsed": false
   },
   "outputs": [
    {
     "data": {
      "text/html": [
       "<div>\n",
       "<table border=\"1\" class=\"dataframe\">\n",
       "  <thead>\n",
       "    <tr style=\"text-align: right;\">\n",
       "      <th></th>\n",
       "      <th>Search Engine</th>\n",
       "      <th>Direct Entry</th>\n",
       "      <th>Other Websites</th>\n",
       "      <th>Social Networks</th>\n",
       "      <th>RA CTA</th>\n",
       "      <th>Donated</th>\n",
       "    </tr>\n",
       "  </thead>\n",
       "  <tbody>\n",
       "    <tr>\n",
       "      <th>count</th>\n",
       "      <td>93.000000</td>\n",
       "      <td>93.000000</td>\n",
       "      <td>93.000000</td>\n",
       "      <td>93.000000</td>\n",
       "      <td>93.000000</td>\n",
       "      <td>93.000000</td>\n",
       "    </tr>\n",
       "    <tr>\n",
       "      <th>mean</th>\n",
       "      <td>175.741935</td>\n",
       "      <td>198.806452</td>\n",
       "      <td>21.451613</td>\n",
       "      <td>3.946237</td>\n",
       "      <td>412.462366</td>\n",
       "      <td>39.193548</td>\n",
       "    </tr>\n",
       "    <tr>\n",
       "      <th>std</th>\n",
       "      <td>73.638055</td>\n",
       "      <td>91.011855</td>\n",
       "      <td>9.201271</td>\n",
       "      <td>3.001324</td>\n",
       "      <td>172.945679</td>\n",
       "      <td>14.625215</td>\n",
       "    </tr>\n",
       "    <tr>\n",
       "      <th>min</th>\n",
       "      <td>16.000000</td>\n",
       "      <td>15.000000</td>\n",
       "      <td>1.000000</td>\n",
       "      <td>0.000000</td>\n",
       "      <td>52.000000</td>\n",
       "      <td>15.000000</td>\n",
       "    </tr>\n",
       "    <tr>\n",
       "      <th>25%</th>\n",
       "      <td>99.000000</td>\n",
       "      <td>99.000000</td>\n",
       "      <td>14.000000</td>\n",
       "      <td>2.000000</td>\n",
       "      <td>222.000000</td>\n",
       "      <td>29.000000</td>\n",
       "    </tr>\n",
       "    <tr>\n",
       "      <th>50%</th>\n",
       "      <td>213.000000</td>\n",
       "      <td>248.000000</td>\n",
       "      <td>22.000000</td>\n",
       "      <td>3.000000</td>\n",
       "      <td>519.000000</td>\n",
       "      <td>35.000000</td>\n",
       "    </tr>\n",
       "    <tr>\n",
       "      <th>75%</th>\n",
       "      <td>234.000000</td>\n",
       "      <td>272.000000</td>\n",
       "      <td>28.000000</td>\n",
       "      <td>6.000000</td>\n",
       "      <td>555.000000</td>\n",
       "      <td>48.000000</td>\n",
       "    </tr>\n",
       "    <tr>\n",
       "      <th>max</th>\n",
       "      <td>285.000000</td>\n",
       "      <td>312.000000</td>\n",
       "      <td>42.000000</td>\n",
       "      <td>14.000000</td>\n",
       "      <td>616.000000</td>\n",
       "      <td>99.000000</td>\n",
       "    </tr>\n",
       "  </tbody>\n",
       "</table>\n",
       "</div>"
      ],
      "text/plain": [
       "       Search Engine  Direct Entry  Other Websites  Social Networks  \\\n",
       "count      93.000000     93.000000       93.000000        93.000000   \n",
       "mean      175.741935    198.806452       21.451613         3.946237   \n",
       "std        73.638055     91.011855        9.201271         3.001324   \n",
       "min        16.000000     15.000000        1.000000         0.000000   \n",
       "25%        99.000000     99.000000       14.000000         2.000000   \n",
       "50%       213.000000    248.000000       22.000000         3.000000   \n",
       "75%       234.000000    272.000000       28.000000         6.000000   \n",
       "max       285.000000    312.000000       42.000000        14.000000   \n",
       "\n",
       "           RA CTA    Donated  \n",
       "count   93.000000  93.000000  \n",
       "mean   412.462366  39.193548  \n",
       "std    172.945679  14.625215  \n",
       "min     52.000000  15.000000  \n",
       "25%    222.000000  29.000000  \n",
       "50%    519.000000  35.000000  \n",
       "75%    555.000000  48.000000  \n",
       "max    616.000000  99.000000  "
      ]
     },
     "execution_count": 31,
     "metadata": {},
     "output_type": "execute_result"
    }
   ],
   "source": [
    "data.describe()"
   ]
  },
  {
   "cell_type": "code",
   "execution_count": 32,
   "metadata": {
    "collapsed": false
   },
   "outputs": [
    {
     "data": {
      "text/html": [
       "<div>\n",
       "<table border=\"1\" class=\"dataframe\">\n",
       "  <thead>\n",
       "    <tr style=\"text-align: right;\">\n",
       "      <th></th>\n",
       "      <th>Search Engine</th>\n",
       "      <th>Direct Entry</th>\n",
       "      <th>Other Websites</th>\n",
       "      <th>Social Networks</th>\n",
       "      <th>RA CTA</th>\n",
       "      <th>Donated</th>\n",
       "    </tr>\n",
       "  </thead>\n",
       "  <tbody>\n",
       "    <tr>\n",
       "      <th>Search Engine</th>\n",
       "      <td>1.000000</td>\n",
       "      <td>0.965710</td>\n",
       "      <td>0.828317</td>\n",
       "      <td>0.590747</td>\n",
       "      <td>0.978897</td>\n",
       "      <td>0.392068</td>\n",
       "    </tr>\n",
       "    <tr>\n",
       "      <th>Direct Entry</th>\n",
       "      <td>0.965710</td>\n",
       "      <td>1.000000</td>\n",
       "      <td>0.830758</td>\n",
       "      <td>0.599038</td>\n",
       "      <td>0.991921</td>\n",
       "      <td>0.398646</td>\n",
       "    </tr>\n",
       "    <tr>\n",
       "      <th>Other Websites</th>\n",
       "      <td>0.828317</td>\n",
       "      <td>0.830758</td>\n",
       "      <td>1.000000</td>\n",
       "      <td>0.527521</td>\n",
       "      <td>0.841703</td>\n",
       "      <td>0.312174</td>\n",
       "    </tr>\n",
       "    <tr>\n",
       "      <th>Social Networks</th>\n",
       "      <td>0.590747</td>\n",
       "      <td>0.599038</td>\n",
       "      <td>0.527521</td>\n",
       "      <td>1.000000</td>\n",
       "      <td>0.598908</td>\n",
       "      <td>0.164664</td>\n",
       "    </tr>\n",
       "    <tr>\n",
       "      <th>RA CTA</th>\n",
       "      <td>0.978897</td>\n",
       "      <td>0.991921</td>\n",
       "      <td>0.841703</td>\n",
       "      <td>0.598908</td>\n",
       "      <td>1.000000</td>\n",
       "      <td>0.414271</td>\n",
       "    </tr>\n",
       "    <tr>\n",
       "      <th>Donated</th>\n",
       "      <td>0.392068</td>\n",
       "      <td>0.398646</td>\n",
       "      <td>0.312174</td>\n",
       "      <td>0.164664</td>\n",
       "      <td>0.414271</td>\n",
       "      <td>1.000000</td>\n",
       "    </tr>\n",
       "  </tbody>\n",
       "</table>\n",
       "</div>"
      ],
      "text/plain": [
       "                 Search Engine  Direct Entry  Other Websites  Social Networks  \\\n",
       "Search Engine         1.000000      0.965710        0.828317         0.590747   \n",
       "Direct Entry          0.965710      1.000000        0.830758         0.599038   \n",
       "Other Websites        0.828317      0.830758        1.000000         0.527521   \n",
       "Social Networks       0.590747      0.599038        0.527521         1.000000   \n",
       "RA CTA                0.978897      0.991921        0.841703         0.598908   \n",
       "Donated               0.392068      0.398646        0.312174         0.164664   \n",
       "\n",
       "                   RA CTA   Donated  \n",
       "Search Engine    0.978897  0.392068  \n",
       "Direct Entry     0.991921  0.398646  \n",
       "Other Websites   0.841703  0.312174  \n",
       "Social Networks  0.598908  0.164664  \n",
       "RA CTA           1.000000  0.414271  \n",
       "Donated          0.414271  1.000000  "
      ]
     },
     "execution_count": 32,
     "metadata": {},
     "output_type": "execute_result"
    }
   ],
   "source": [
    "data.corr()"
   ]
  },
  {
   "cell_type": "code",
   "execution_count": 33,
   "metadata": {
    "collapsed": false
   },
   "outputs": [
    {
     "data": {
      "image/png": "[encoded data removed]",
      "text/plain": [
       "<matplotlib.figure.Figure at 0x16d7c9f50>"
      ]
     },
     "metadata": {},
     "output_type": "display_data"
    }
   ],
   "source": [
    "data.hist()\n",
    "pl.show()"
   ]
  },
  {
   "cell_type": "code",
   "execution_count": 35,
   "metadata": {
    "collapsed": false,
    "scrolled": true
   },
   "outputs": [
    {
     "data": {
      "text/plain": [
       "<matplotlib.axes._subplots.AxesSubplot at 0x16e9c9850>"
      ]
     },
     "execution_count": 35,
     "metadata": {},
     "output_type": "execute_result"
    },
    {
     "data": {
      "image/png": "[encoded data removed]",
      "text/plain": [
       "<matplotlib.figure.Figure at 0x16d7c1d50>"
      ]
     },
     "metadata": {},
     "output_type": "display_data"
    }
   ],
   "source": [
    "data['RA CTA'].plot(kind='box')"
   ]
  },
  {
   "cell_type": "markdown",
   "metadata": {},
   "source": [
    "Domain knowledge"
   ]
  },
  {
   "cell_type": "markdown",
   "metadata": {},
   "source": [
    "What experience do you already have around this area?\n",
    "\n",
    "This will be the first project (client) I work on related to Cancer research. However, the goal is to understand how the results from the site traffic captured can impact how to iterate and explore content and site conversion strategy. \n"
   ]
  },
  {
   "cell_type": "markdown",
   "metadata": {},
   "source": [
    "Project Concerns"
   ]
  },
  {
   "cell_type": "markdown",
   "metadata": {},
   "source": [
    "What questions do you have about your project? What are you not sure you quite yet understand? \n",
    "\n",
    "Site traffic can be limited, I also just got access to the data so I need to approach the project with a narrow window to find actionable insights. \n"
   ]
  },
  {
   "cell_type": "markdown",
   "metadata": {},
   "source": [
    "Outcomes"
   ]
  },
  {
   "cell_type": "markdown",
   "metadata": {},
   "source": [
    "\n",
    "How complicated does your model have to be?\n",
    "\n",
    "Simplicity is key, this model would help guide strategy and design most. The goal is to distill the model down to actionable recommendations for landing page test ideas. \n",
    "\n",
    "How successful does your project have to be in order to be considered a \"success\"?\n",
    "\n",
    "Success means being able to predict varying behaviors for different women who have cancer and their access to healthcare because it will help idenitfy opportunties to drive the most effective awareness campaigns. \n",
    "\n",
    "What will you do if the project is a bust (this happens! but it shouldn't here)?\n",
    "\n",
    "There are some other features I can try to use if I find that there are no relationships between cancer patients and their lifestyle habits and access to healthcare. "
   ]
  }
 ],
 "metadata": {
  "kernelspec": {
   "display_name": "Python 2",
   "language": "python",
   "name": "python2"
  },
  "language_info": {
   "codemirror_mode": {
    "name": "ipython",
    "version": 2
   },
   "file_extension": ".py",
   "mimetype": "text/x-python",
   "name": "python",
   "nbconvert_exporter": "python",
   "pygments_lexer": "ipython2",
   "version": "2.7.11"
  }
 },
 "nbformat": 4,
 "nbformat_minor": 0
}
