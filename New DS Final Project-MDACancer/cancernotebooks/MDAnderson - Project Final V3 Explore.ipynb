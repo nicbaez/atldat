{
 "cells": [
  {
   "cell_type": "markdown",
   "metadata": {},
   "source": [
    "# MD Anderson - Site Engagement to Increase Screenings"
   ]
  },
  {
   "cell_type": "markdown",
   "metadata": {},
   "source": [
    "Project Problem and Hypothesis"
   ]
  },
  {
   "cell_type": "markdown",
   "metadata": {},
   "source": [
    "What's the project about? What problem are you solving?\n",
    "\n",
    "Cancer reasearch publications, doctors and cancer survivors all agree and urge that early screening and detection is by far the most important driver to saving lives and easing cancer treatment. \n",
    "This project is using MD Anderson site traffic data to determine how to increase engagement with important conversion points on the site that drive referral and appointments. \n",
    "\n",
    "\n",
    "Where does this seem to reside as a machine learning problem? Are you predicting some continuous number, or predicting a binary value?\n",
    "\n",
    "Predicting a continuous number over a time series. I want to predict the relationship between the CTA (call to action) \"Request an Appointment\" and site traffic referral types (initially). \n",
    "\n",
    "\n",
    "\n",
    "What kind of impact do you think it could have?\n",
    "What do you think will have the most impact in predicting the value you are interested in solving for?\n",
    "\n",
    "I have recently been transferred to a new client, MD Anderson Research Center based in Houston and believe understanding the relationship between site traffice design, referral types and possibly testing more copy and CTA methods. "
   ]
  },
  {
   "cell_type": "markdown",
   "metadata": {},
   "source": [
    "Dataset"
   ]
  },
  {
   "cell_type": "code",
   "execution_count": 31,
   "metadata": {
    "collapsed": false,
    "scrolled": true
   },
   "outputs": [],
   "source": [
    "import pandas as pd\n",
    "import sklearn.linear_model as lm\n",
    "import matplotlib.pyplot as plt\n",
    "import pandas as pd\n",
    "from sklearn.linear_model import LogisticRegression\n",
    "import numpy as np\n",
    "import matplotlib.pyplot as plt\n",
    "import statsmodels.api as sm\n",
    "import pylab as pl\n",
    "from numpy.random import randn\n",
    "%matplotlib inline\n",
    "\n",
    "data = pd.read_csv('./omnituremda.csv')\n"
   ]
  },
  {
   "cell_type": "code",
   "execution_count": 32,
   "metadata": {
    "collapsed": true
   },
   "outputs": [],
   "source": [
    "lm = LogisticRegression()"
   ]
  },
  {
   "cell_type": "code",
   "execution_count": 33,
   "metadata": {
    "collapsed": false
   },
   "outputs": [
    {
     "name": "stdout",
     "output_type": "stream",
     "text": [
      "     Date   Site  Search Engine   Direct Entry   Other Websites  \\\n",
      "0  1/1/16  24398              16             20               1   \n",
      "1  1/2/16  25723              20             15               4   \n",
      "2  1/3/16  30018              22             18               4   \n",
      "3  1/4/16  52082              77            102              12   \n",
      "4  1/5/16  55670              78             87               7   \n",
      "\n",
      "   Social Networks  Cancer Type  RA CTA  Donated   RA Conv  Unnamed: 10  \n",
      "0                2          110      57       28  0.002336          NaN  \n",
      "1                0           90      52       33  0.002022          NaN  \n",
      "2                1          118      62       21  0.002065          NaN  \n",
      "3                1          353     247       30  0.004743          NaN  \n",
      "4                1          350     242       30  0.004347          NaN  \n"
     ]
    }
   ],
   "source": [
    "print data.head()"
   ]
  },
  {
   "cell_type": "code",
   "execution_count": 43,
   "metadata": {
    "collapsed": false
   },
   "outputs": [
    {
     "name": "stdout",
     "output_type": "stream",
     "text": [
      "               Site  Search Engine   Direct Entry   Other Websites  \\\n",
      "count     93.000000       93.000000      93.000000       93.000000   \n",
      "mean   34252.698925      175.741935     198.806452       21.451613   \n",
      "std     9723.723155       73.638055      91.011855        9.201271   \n",
      "min    16881.000000       16.000000      15.000000        1.000000   \n",
      "25%    26503.000000       99.000000      99.000000       14.000000   \n",
      "50%    36188.000000      213.000000     248.000000       22.000000   \n",
      "75%    39684.000000      234.000000     272.000000       28.000000   \n",
      "max    55670.000000      285.000000     312.000000       42.000000   \n",
      "\n",
      "       Social Networks  Cancer Type      RA CTA    Donated    RA Conv  \\\n",
      "count        93.000000    93.000000   93.000000  93.000000  93.000000   \n",
      "mean          3.946237   679.193548  412.462366  39.193548   0.011971   \n",
      "std           3.001324   273.996242  172.945679  14.625215   0.003741   \n",
      "min           0.000000    90.000000   52.000000  15.000000   0.002022   \n",
      "25%           2.000000   435.000000  222.000000  29.000000   0.010340   \n",
      "50%           3.000000   779.000000  519.000000  35.000000   0.013623   \n",
      "75%           6.000000   897.000000  555.000000  48.000000   0.014787   \n",
      "max          14.000000  1306.000000  616.000000  99.000000   0.016608   \n",
      "\n",
      "       Unnamed: 10  \n",
      "count            0  \n",
      "mean           NaN  \n",
      "std            NaN  \n",
      "min            NaN  \n",
      "25%            NaN  \n",
      "50%            NaN  \n",
      "75%            NaN  \n",
      "max            NaN  \n"
     ]
    }
   ],
   "source": [
    "print data.describe()"
   ]
  },
  {
   "cell_type": "code",
   "execution_count": 35,
   "metadata": {
    "collapsed": false,
    "scrolled": true
   },
   "outputs": [
    {
     "data": {
      "text/html": [
       "<div>\n",
       "<table border=\"1\" class=\"dataframe\">\n",
       "  <thead>\n",
       "    <tr style=\"text-align: right;\">\n",
       "      <th></th>\n",
       "      <th>Site</th>\n",
       "      <th>Search Engine</th>\n",
       "      <th>Direct Entry</th>\n",
       "      <th>Other Websites</th>\n",
       "      <th>Social Networks</th>\n",
       "      <th>Cancer Type</th>\n",
       "      <th>RA CTA</th>\n",
       "      <th>Donated</th>\n",
       "      <th>RA Conv</th>\n",
       "      <th>Unnamed: 10</th>\n",
       "    </tr>\n",
       "  </thead>\n",
       "  <tbody>\n",
       "    <tr>\n",
       "      <th>Site</th>\n",
       "      <td>1.000000</td>\n",
       "      <td>0.460392</td>\n",
       "      <td>0.525106</td>\n",
       "      <td>0.434579</td>\n",
       "      <td>0.323692</td>\n",
       "      <td>0.479060</td>\n",
       "      <td>0.571093</td>\n",
       "      <td>0.383583</td>\n",
       "      <td>0.067115</td>\n",
       "      <td>NaN</td>\n",
       "    </tr>\n",
       "    <tr>\n",
       "      <th>Search Engine</th>\n",
       "      <td>0.460392</td>\n",
       "      <td>1.000000</td>\n",
       "      <td>0.965710</td>\n",
       "      <td>0.828317</td>\n",
       "      <td>0.590747</td>\n",
       "      <td>0.866196</td>\n",
       "      <td>0.978897</td>\n",
       "      <td>0.392068</td>\n",
       "      <td>0.875661</td>\n",
       "      <td>NaN</td>\n",
       "    </tr>\n",
       "    <tr>\n",
       "      <th>Direct Entry</th>\n",
       "      <td>0.525106</td>\n",
       "      <td>0.965710</td>\n",
       "      <td>1.000000</td>\n",
       "      <td>0.830758</td>\n",
       "      <td>0.599038</td>\n",
       "      <td>0.860911</td>\n",
       "      <td>0.991921</td>\n",
       "      <td>0.398646</td>\n",
       "      <td>0.855388</td>\n",
       "      <td>NaN</td>\n",
       "    </tr>\n",
       "    <tr>\n",
       "      <th>Other Websites</th>\n",
       "      <td>0.434579</td>\n",
       "      <td>0.828317</td>\n",
       "      <td>0.830758</td>\n",
       "      <td>1.000000</td>\n",
       "      <td>0.527521</td>\n",
       "      <td>0.749659</td>\n",
       "      <td>0.841703</td>\n",
       "      <td>0.312174</td>\n",
       "      <td>0.731559</td>\n",
       "      <td>NaN</td>\n",
       "    </tr>\n",
       "    <tr>\n",
       "      <th>Social Networks</th>\n",
       "      <td>0.323692</td>\n",
       "      <td>0.590747</td>\n",
       "      <td>0.599038</td>\n",
       "      <td>0.527521</td>\n",
       "      <td>1.000000</td>\n",
       "      <td>0.602143</td>\n",
       "      <td>0.598908</td>\n",
       "      <td>0.164664</td>\n",
       "      <td>0.469264</td>\n",
       "      <td>NaN</td>\n",
       "    </tr>\n",
       "    <tr>\n",
       "      <th>Cancer Type</th>\n",
       "      <td>0.479060</td>\n",
       "      <td>0.866196</td>\n",
       "      <td>0.860911</td>\n",
       "      <td>0.749659</td>\n",
       "      <td>0.602143</td>\n",
       "      <td>1.000000</td>\n",
       "      <td>0.875027</td>\n",
       "      <td>0.370807</td>\n",
       "      <td>0.734709</td>\n",
       "      <td>NaN</td>\n",
       "    </tr>\n",
       "    <tr>\n",
       "      <th>RA CTA</th>\n",
       "      <td>0.571093</td>\n",
       "      <td>0.978897</td>\n",
       "      <td>0.991921</td>\n",
       "      <td>0.841703</td>\n",
       "      <td>0.598908</td>\n",
       "      <td>0.875027</td>\n",
       "      <td>1.000000</td>\n",
       "      <td>0.414271</td>\n",
       "      <td>0.838572</td>\n",
       "      <td>NaN</td>\n",
       "    </tr>\n",
       "    <tr>\n",
       "      <th>Donated</th>\n",
       "      <td>0.383583</td>\n",
       "      <td>0.392068</td>\n",
       "      <td>0.398646</td>\n",
       "      <td>0.312174</td>\n",
       "      <td>0.164664</td>\n",
       "      <td>0.370807</td>\n",
       "      <td>0.414271</td>\n",
       "      <td>1.000000</td>\n",
       "      <td>0.248312</td>\n",
       "      <td>NaN</td>\n",
       "    </tr>\n",
       "    <tr>\n",
       "      <th>RA Conv</th>\n",
       "      <td>0.067115</td>\n",
       "      <td>0.875661</td>\n",
       "      <td>0.855388</td>\n",
       "      <td>0.731559</td>\n",
       "      <td>0.469264</td>\n",
       "      <td>0.734709</td>\n",
       "      <td>0.838572</td>\n",
       "      <td>0.248312</td>\n",
       "      <td>1.000000</td>\n",
       "      <td>NaN</td>\n",
       "    </tr>\n",
       "    <tr>\n",
       "      <th>Unnamed: 10</th>\n",
       "      <td>NaN</td>\n",
       "      <td>NaN</td>\n",
       "      <td>NaN</td>\n",
       "      <td>NaN</td>\n",
       "      <td>NaN</td>\n",
       "      <td>NaN</td>\n",
       "      <td>NaN</td>\n",
       "      <td>NaN</td>\n",
       "      <td>NaN</td>\n",
       "      <td>NaN</td>\n",
       "    </tr>\n",
       "  </tbody>\n",
       "</table>\n",
       "</div>"
      ],
      "text/plain": [
       "                     Site  Search Engine   Direct Entry   Other Websites  \\\n",
       "Site             1.000000        0.460392       0.525106        0.434579   \n",
       "Search Engine    0.460392        1.000000       0.965710        0.828317   \n",
       "Direct Entry     0.525106        0.965710       1.000000        0.830758   \n",
       "Other Websites   0.434579        0.828317       0.830758        1.000000   \n",
       "Social Networks  0.323692        0.590747       0.599038        0.527521   \n",
       "Cancer Type      0.479060        0.866196       0.860911        0.749659   \n",
       "RA CTA           0.571093        0.978897       0.991921        0.841703   \n",
       "Donated          0.383583        0.392068       0.398646        0.312174   \n",
       "RA Conv          0.067115        0.875661       0.855388        0.731559   \n",
       "Unnamed: 10           NaN             NaN            NaN             NaN   \n",
       "\n",
       "                 Social Networks  Cancer Type    RA CTA   Donated   RA Conv  \\\n",
       "Site                    0.323692     0.479060  0.571093  0.383583  0.067115   \n",
       "Search Engine           0.590747     0.866196  0.978897  0.392068  0.875661   \n",
       "Direct Entry            0.599038     0.860911  0.991921  0.398646  0.855388   \n",
       "Other Websites          0.527521     0.749659  0.841703  0.312174  0.731559   \n",
       "Social Networks         1.000000     0.602143  0.598908  0.164664  0.469264   \n",
       "Cancer Type             0.602143     1.000000  0.875027  0.370807  0.734709   \n",
       "RA CTA                  0.598908     0.875027  1.000000  0.414271  0.838572   \n",
       "Donated                 0.164664     0.370807  0.414271  1.000000  0.248312   \n",
       "RA Conv                 0.469264     0.734709  0.838572  0.248312  1.000000   \n",
       "Unnamed: 10                  NaN          NaN       NaN       NaN       NaN   \n",
       "\n",
       "                 Unnamed: 10  \n",
       "Site                     NaN  \n",
       "Search Engine            NaN  \n",
       "Direct Entry             NaN  \n",
       "Other Websites           NaN  \n",
       "Social Networks          NaN  \n",
       "Cancer Type              NaN  \n",
       "RA CTA                   NaN  \n",
       "Donated                  NaN  \n",
       "RA Conv                  NaN  \n",
       "Unnamed: 10              NaN  "
      ]
     },
     "execution_count": 35,
     "metadata": {},
     "output_type": "execute_result"
    }
   ],
   "source": [
    "data.corr()"
   ]
  },
  {
   "cell_type": "code",
   "execution_count": 36,
   "metadata": {
    "collapsed": false,
    "scrolled": true
   },
   "outputs": [
    {
     "data": {
      "image/png": "[encoded data removed]",
      "text/plain": [
       "<matplotlib.figure.Figure at 0x11b3137d0>"
      ]
     },
     "metadata": {},
     "output_type": "display_data"
    }
   ],
   "source": [
    "data.hist()\n",
    "pl.show()"
   ]
  },
  {
   "cell_type": "code",
   "execution_count": 37,
   "metadata": {
    "collapsed": true
   },
   "outputs": [],
   "source": [
    "import pandas as pd\n",
    "import matplotlib.pyplot as plt"
   ]
  },
  {
   "cell_type": "code",
   "execution_count": 38,
   "metadata": {
    "collapsed": false,
    "scrolled": false
   },
   "outputs": [
    {
     "data": {
      "text/plain": [
       "<matplotlib.axes._subplots.AxesSubplot at 0x11c51c3d0>"
      ]
     },
     "execution_count": 38,
     "metadata": {},
     "output_type": "execute_result"
    },
    {
     "data": {
      "image/png": "[encoded data removed]",
      "text/plain": [
       "<matplotlib.figure.Figure at 0x1199b96d0>"
      ]
     },
     "metadata": {},
     "output_type": "display_data"
    }
   ],
   "source": [
    "data['RA CTA'].plot(kind='box')"
   ]
  },
  {
   "cell_type": "code",
   "execution_count": 39,
   "metadata": {
    "collapsed": false
   },
   "outputs": [
    {
     "data": {
      "text/plain": [
       "<matplotlib.axes._subplots.AxesSubplot at 0x11b313b90>"
      ]
     },
     "execution_count": 39,
     "metadata": {},
     "output_type": "execute_result"
    },
    {
     "data": {
      "image/png": "[encoded data removed]",
      "text/plain": [
       "<matplotlib.figure.Figure at 0x11ca00650>"
      ]
     },
     "metadata": {},
     "output_type": "display_data"
    }
   ],
   "source": [
    "data['Cancer Type'].plot(kind='box')"
   ]
  },
  {
   "cell_type": "code",
   "execution_count": 41,
   "metadata": {
    "collapsed": false
   },
   "outputs": [
    {
     "data": {
      "text/plain": [
       "<bound method Series.mean of 0      0.002336\n",
       "1      0.002022\n",
       "2      0.002065\n",
       "3      0.004743\n",
       "4      0.004347\n",
       "5      0.004578\n",
       "6      0.004994\n",
       "7      0.005336\n",
       "8      0.002827\n",
       "9      0.003062\n",
       "10     0.005387\n",
       "11     0.011840\n",
       "12     0.011318\n",
       "13     0.010340\n",
       "14     0.010845\n",
       "15     0.007584\n",
       "16     0.005438\n",
       "17     0.009751\n",
       "18     0.013963\n",
       "19     0.012892\n",
       "20     0.012847\n",
       "21     0.013587\n",
       "22     0.009011\n",
       "23     0.009501\n",
       "24     0.014962\n",
       "25     0.013607\n",
       "26     0.013389\n",
       "27     0.014013\n",
       "28     0.014038\n",
       "29     0.010898\n",
       "         ...   \n",
       "139         NaN\n",
       "140         NaN\n",
       "141         NaN\n",
       "142         NaN\n",
       "143         NaN\n",
       "144         NaN\n",
       "145         NaN\n",
       "146         NaN\n",
       "147         NaN\n",
       "148         NaN\n",
       "149         NaN\n",
       "150         NaN\n",
       "151         NaN\n",
       "152         NaN\n",
       "153         NaN\n",
       "154         NaN\n",
       "155         NaN\n",
       "156         NaN\n",
       "157         NaN\n",
       "158         NaN\n",
       "159         NaN\n",
       "160         NaN\n",
       "161         NaN\n",
       "162         NaN\n",
       "163         NaN\n",
       "164         NaN\n",
       "165         NaN\n",
       "166         NaN\n",
       "167         NaN\n",
       "168         NaN\n",
       "Name: RA Conv, dtype: float64>"
      ]
     },
     "execution_count": 41,
     "metadata": {},
     "output_type": "execute_result"
    }
   ],
   "source": [
    "data['RA Conv'].mean"
   ]
  },
  {
   "cell_type": "markdown",
   "metadata": {},
   "source": [
    "Domain knowledge"
   ]
  },
  {
   "cell_type": "markdown",
   "metadata": {},
   "source": [
    "What experience do you already have around this area?\n",
    "\n",
    "This will be the first project (client) I work on related to Cancer research. However, the goal is to understand how the results from the site traffic captured can impact how to iterate and explore content and site conversion strategy. \n"
   ]
  },
  {
   "cell_type": "markdown",
   "metadata": {},
   "source": [
    "Project Concerns"
   ]
  },
  {
   "cell_type": "markdown",
   "metadata": {},
   "source": [
    "What questions do you have about your project? What are you not sure you quite yet understand? \n",
    "\n",
    "Site traffic can be limited, I also just got access to the data so I need to approach the project with a narrow window to find actionable insights. \n"
   ]
  },
  {
   "cell_type": "markdown",
   "metadata": {},
   "source": [
    "Outcomes"
   ]
  },
  {
   "cell_type": "markdown",
   "metadata": {},
   "source": [
    "\n",
    "How complicated does your model have to be?\n",
    "\n",
    "Simplicity is key, this model would help guide strategy and design most. The goal is to distill the model down to actionable recommendations for landing page test ideas. \n",
    "\n",
    "How successful does your project have to be in order to be considered a \"success\"?\n",
    "\n",
    "Success means being able to predict varying behaviors for different women who have cancer and their access to healthcare because it will help idenitfy opportunties to drive the most effective awareness campaigns. \n",
    "\n",
    "What will you do if the project is a bust (this happens! but it shouldn't here)?\n",
    "\n",
    "There are some other features I can try to use if I find that there are no relationships between cancer patients and their lifestyle habits and access to healthcare. "
   ]
  }
 ],
 "metadata": {
  "kernelspec": {
   "display_name": "Python 2",
   "language": "python",
   "name": "python2"
  },
  "language_info": {
   "codemirror_mode": {
    "name": "ipython",
    "version": 2
   },
   "file_extension": ".py",
   "mimetype": "text/x-python",
   "name": "python",
   "nbconvert_exporter": "python",
   "pygments_lexer": "ipython2",
   "version": "2.7.11"
  }
 },
 "nbformat": 4,
 "nbformat_minor": 0
}
