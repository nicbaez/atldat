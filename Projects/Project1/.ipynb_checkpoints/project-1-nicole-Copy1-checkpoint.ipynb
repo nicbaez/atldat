{
 "cells": [
  {
   "cell_type": "code",
   "execution_count": 1,
   "metadata": {
    "collapsed": true
   },
   "outputs": [],
   "source": [
    "import pandas as pd\n",
    "import numpy as np \n",
    "import statsmodels.formula.api as sm\n",
    "from sklearn.linear_model import LinearRegression # this is not applicable for a classification problem\n",
    "import scipy, scipy.stats\n",
    "\n",
    "def read_csv_file(path):\n",
    "   df = pd.read_csv(path) \n",
    "   return(df) \n",
    "\n",
    "path = \"./admissions.csv\""
   ]
  },
  {
   "cell_type": "code",
   "execution_count": 2,
   "metadata": {
    "collapsed": true
   },
   "outputs": [],
   "source": [
    "table = read_csv_file(path)"
   ]
  },
  {
   "cell_type": "code",
   "execution_count": 3,
   "metadata": {
    "collapsed": false
   },
   "outputs": [
    {
     "data": {
      "text/html": [
       "<div>\n",
       "<table border=\"1\" class=\"dataframe\">\n",
       "  <thead>\n",
       "    <tr style=\"text-align: right;\">\n",
       "      <th></th>\n",
       "      <th>admit</th>\n",
       "      <th>gre</th>\n",
       "      <th>gpa</th>\n",
       "      <th>prestige</th>\n",
       "    </tr>\n",
       "  </thead>\n",
       "  <tbody>\n",
       "    <tr>\n",
       "      <th>0</th>\n",
       "      <td>0</td>\n",
       "      <td>380</td>\n",
       "      <td>3.61</td>\n",
       "      <td>3</td>\n",
       "    </tr>\n",
       "    <tr>\n",
       "      <th>1</th>\n",
       "      <td>1</td>\n",
       "      <td>660</td>\n",
       "      <td>3.67</td>\n",
       "      <td>3</td>\n",
       "    </tr>\n",
       "    <tr>\n",
       "      <th>2</th>\n",
       "      <td>1</td>\n",
       "      <td>800</td>\n",
       "      <td>4.00</td>\n",
       "      <td>1</td>\n",
       "    </tr>\n",
       "    <tr>\n",
       "      <th>3</th>\n",
       "      <td>1</td>\n",
       "      <td>640</td>\n",
       "      <td>3.19</td>\n",
       "      <td>4</td>\n",
       "    </tr>\n",
       "    <tr>\n",
       "      <th>4</th>\n",
       "      <td>0</td>\n",
       "      <td>520</td>\n",
       "      <td>2.93</td>\n",
       "      <td>4</td>\n",
       "    </tr>\n",
       "  </tbody>\n",
       "</table>\n",
       "</div>"
      ],
      "text/plain": [
       "   admit  gre   gpa  prestige\n",
       "0      0  380  3.61         3\n",
       "1      1  660  3.67         3\n",
       "2      1  800  4.00         1\n",
       "3      1  640  3.19         4\n",
       "4      0  520  2.93         4"
      ]
     },
     "execution_count": 3,
     "metadata": {},
     "output_type": "execute_result"
    }
   ],
   "source": [
    "table.head()"
   ]
  },
  {
   "cell_type": "markdown",
   "metadata": {},
   "source": [
    "# 1. Problem Statement\n",
    "#### We are interested in seeing whether or not there is a relationship within the cross-sectional UCLA data \n",
    "#### to determine the relationship between and effect on admissions into the school and various application scores. We will measure if applicants with higher  \n",
    "#### GRE, GPA and rank/prestige scores increase the chances of being admitted. The time-frame of the data is unknown, \n",
    "#### which limits relevancy of the outcomes.\n",
    "\n",
    "#### Hypothesis: Students with higher ovdrall scores are more likely admitted into UCLA. However, other factors not included in \n",
    "#### the data set like time frame, gender, major, demographic and work experience which add weight to an applicant \n",
    "#### which would add more depth and breadth to the test results. \n"
   ]
  },
  {
   "cell_type": "markdown",
   "metadata": {},
   "source": [
    "# 2. What is the intended question you want to answer and what is the outcome?\n",
    "#### Determine the association between the predictors gre, gpa, rank and admission entrance into UCLA. \n",
    "#### The outcome is admit 1 or 0, yes or no. \n",
    "#### The response variable, admit/don't admit, is a binary variabable."
   ]
  },
  {
   "cell_type": "markdown",
   "metadata": {},
   "source": [
    "# What are the predictors and covariates which determine admissions into UCLA?\n",
    "#### By only using the data available, we can try to determine how admission varies based on GRE scores, \n",
    "#### GPA, and prestige/rank. "
   ]
  },
  {
   "cell_type": "markdown",
   "metadata": {},
   "source": [
    "# 3. What timeframe is this data relevant for?\n",
    "#### Unknown, the data did not include a date. - Follow up on this?"
   ]
  },
  {
   "cell_type": "markdown",
   "metadata": {},
   "source": [
    "# 4. What is the hypothesis about the students admitted into UCLA?\n",
    "#### Predictors/covariates are components included in a total weighted score that the admissions board uses \n",
    "#### as a benchmark for admissions applications.\n",
    "#### However, the prestige score is based on factors that are unknown and the admissions data does not include additional \n",
    "#### context about the student that also such as when they applied, their work experience, what program they applied for, \n",
    "#### recommendations and gender/background which may also influence how admissions \n",
    "#### builds the composition of the entering graduate class. \n"
   ]
  },
  {
   "cell_type": "markdown",
   "metadata": {},
   "source": [
    "# 5. Data Dictionary: UCLA Admissions \n",
    "\n",
    "\n",
    "Variable | Description | Type of Variable\n",
    "---| ---| ---\n",
    "Admit | Integer - Admissions outcome yes/no, binary whether a student admitted  | categorical\n",
    "GRE | Integer - Integer Graduate exam score | continuous\n",
    "GPA | Integer - Grade point average | continuous \n",
    "Rank Prestige | Integer - Alma Mater | categorical\n",
    " \n",
    "\n"
   ]
  },
  {
   "cell_type": "markdown",
   "metadata": {},
   "source": [
    "## 6. What are the risks and assumptions of the data set?\n",
    "\n",
    "#### Data is missing additional contextual and demographic data is lacking from the data set. This includes time \n",
    "#### frame/date the data was collected, what major or program they are applying for, what factors \n",
    "#### are included in creating the prestige score"
   ]
  },
  {
   "cell_type": "markdown",
   "metadata": {},
   "source": [
    "## 7. Exploratory Analysis of UCLA data set: Loading Data, summary stats, regression and results\n"
   ]
  },
  {
   "cell_type": "markdown",
   "metadata": {},
   "source": [
    "#### This dataset has a binary response yes or no (outcome, dependent) variable called admit. There are three predictor variables: gre, gpa and rank. The variables gre and gpa as continuous. The variable rank takes on the values 1 through 4. Institutions with a rank of 1 have the highest prestige, while those with a rank of 4 have the lowest. By using describe () below, we can see a high level overview of what our data set is."
   ]
  },
  {
   "cell_type": "code",
   "execution_count": null,
   "metadata": {
    "collapsed": true
   },
   "outputs": [],
   "source": [
    "### Analysis Exploration Steps:\n",
    "#### We have a data set who’s independent variables (predictors) are various scores, \n",
    "#### each candidate with an admit (0,1) has an associated set of predictors GRE, Rank/Prestige and GPA. \n",
    "#### By using pylab, statsmodel or even a logistal regression package one can test the differences \n",
    "#### between rank against admission and other hypotheses to understand what the effect of each \n",
    "#### variable is on admit."
   ]
  },
  {
   "cell_type": "code",
   "execution_count": 18,
   "metadata": {
    "collapsed": false
   },
   "outputs": [],
   "source": [
    "import pandas as pd\n",
    "import statsmodels.api as sm\n",
    "import pylab as pl\n",
    "import numpy as np # you dont need to reimport classes within the same notebook"
   ]
  },
  {
   "cell_type": "code",
   "execution_count": 4,
   "metadata": {
    "collapsed": true
   },
   "outputs": [],
   "source": [
    "In [2]: import matplotlib.pyplot as plt\n",
    "In [3]: import matplotlib.image as mpimg\n",
    "In [4]: import numpy as np"
   ]
  },
  {
   "cell_type": "code",
   "execution_count": 5,
   "metadata": {
    "collapsed": false
   },
   "outputs": [
    {
     "name": "stdout",
     "output_type": "stream",
     "text": [
      "Index([u'admit', u'gre', u'gpa', u'prestige'], dtype='object')\n"
     ]
    }
   ],
   "source": [
    "table.columns = [\"admit\", \"gre\", \"gpa\", \"prestige\"]\n",
    "print table.columns"
   ]
  },
  {
   "cell_type": "code",
   "execution_count": 6,
   "metadata": {
    "collapsed": false
   },
   "outputs": [
    {
     "name": "stdout",
     "output_type": "stream",
     "text": [
      "   admit  gre   gpa  prestige\n",
      "0      0  380  3.61         3\n",
      "1      1  660  3.67         3\n",
      "2      1  800  4.00         1\n",
      "3      1  640  3.19         4\n",
      "4      0  520  2.93         4\n"
     ]
    }
   ],
   "source": [
    "print table.head()"
   ]
  },
  {
   "cell_type": "markdown",
   "metadata": {},
   "source": [
    "#### Summary of the table\n",
    "###### Below we see that 400 observations in our data set can be used in the analysis. \n",
    "###### Coefficients  GRE and GPA"
   ]
  },
  {
   "cell_type": "code",
   "execution_count": 7,
   "metadata": {
    "collapsed": false,
    "scrolled": true
   },
   "outputs": [
    {
     "name": "stdout",
     "output_type": "stream",
     "text": [
      "            admit         gre        gpa    prestige\n",
      "count  400.000000  398.000000  398.00000  399.000000\n",
      "mean     0.317500  588.040201    3.39093    2.486216\n",
      "std      0.466087  115.628513    0.38063    0.945333\n",
      "min      0.000000  220.000000    2.26000    1.000000\n",
      "25%      0.000000  520.000000    3.13000    2.000000\n",
      "50%      0.000000  580.000000    3.39500    2.000000\n",
      "75%      1.000000  660.000000    3.67000    3.000000\n",
      "max      1.000000  800.000000    4.00000    4.000000\n"
     ]
    }
   ],
   "source": [
    "print table.describe()"
   ]
  },
  {
   "cell_type": "code",
   "execution_count": null,
   "metadata": {
    "collapsed": true
   },
   "outputs": [],
   "source": [
    "df_admit = df[ df[\"admit\"] == 1 ] "
   ]
  },
  {
   "cell_type": "code",
   "execution_count": null,
   "metadata": {
    "collapsed": true
   },
   "outputs": [],
   "source": [
    "df_no_admit = df[ df[\"admit\"] == 0 ] "
   ]
  },
  {
   "cell_type": "code",
   "execution_count": null,
   "metadata": {
    "collapsed": true
   },
   "outputs": [],
   "source": [
    "df_admit.describe() "
   ]
  }
 ],
 "metadata": {
  "kernelspec": {
   "display_name": "Python 2",
   "language": "python",
   "name": "python2"
  },
  "language_info": {
   "codemirror_mode": {
    "name": "ipython",
    "version": 2
   },
   "file_extension": ".py",
   "mimetype": "text/x-python",
   "name": "python",
   "nbconvert_exporter": "python",
   "pygments_lexer": "ipython2",
   "version": "2.7.11"
  }
 },
 "nbformat": 4,
 "nbformat_minor": 0
}
