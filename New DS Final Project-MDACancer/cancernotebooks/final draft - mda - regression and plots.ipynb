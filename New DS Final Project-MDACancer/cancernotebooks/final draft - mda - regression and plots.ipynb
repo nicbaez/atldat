{
 "cells": [
  {
   "cell_type": "code",
   "execution_count": 29,
   "metadata": {
    "collapsed": true
   },
   "outputs": [],
   "source": [
    "import pandas as pd\n",
    "import matplotlib.pyplot as plt\n",
    "import numpy as np\n",
    "import matplotlib.pyplot as plt\n",
    "import seaborn as sns\n",
    "sns.set_style(\"darkgrid\")\n",
    "import sklearn.linear_model\n",
    "%matplotlib inline"
   ]
  },
  {
   "cell_type": "code",
   "execution_count": 30,
   "metadata": {
    "collapsed": false
   },
   "outputs": [],
   "source": [
    "data = pd.read_csv('./omnituremda2.csv')"
   ]
  },
  {
   "cell_type": "code",
   "execution_count": 31,
   "metadata": {
    "collapsed": false
   },
   "outputs": [
    {
     "data": {
      "text/html": [
       "<div>\n",
       "<table border=\"1\" class=\"dataframe\">\n",
       "  <thead>\n",
       "    <tr style=\"text-align: right;\">\n",
       "      <th></th>\n",
       "      <th>date</th>\n",
       "      <th>site</th>\n",
       "      <th>searchengine</th>\n",
       "      <th>directentry</th>\n",
       "      <th>otherwebsites</th>\n",
       "      <th>socialnetworks</th>\n",
       "      <th>cancertypes</th>\n",
       "      <th>donated</th>\n",
       "      <th>ra</th>\n",
       "    </tr>\n",
       "  </thead>\n",
       "  <tbody>\n",
       "    <tr>\n",
       "      <th>0</th>\n",
       "      <td>1/1/16</td>\n",
       "      <td>24398</td>\n",
       "      <td>16</td>\n",
       "      <td>20</td>\n",
       "      <td>1</td>\n",
       "      <td>2</td>\n",
       "      <td>110</td>\n",
       "      <td>28</td>\n",
       "      <td>57</td>\n",
       "    </tr>\n",
       "    <tr>\n",
       "      <th>1</th>\n",
       "      <td>1/2/16</td>\n",
       "      <td>25723</td>\n",
       "      <td>20</td>\n",
       "      <td>15</td>\n",
       "      <td>4</td>\n",
       "      <td>0</td>\n",
       "      <td>90</td>\n",
       "      <td>33</td>\n",
       "      <td>52</td>\n",
       "    </tr>\n",
       "    <tr>\n",
       "      <th>2</th>\n",
       "      <td>1/3/16</td>\n",
       "      <td>30018</td>\n",
       "      <td>22</td>\n",
       "      <td>18</td>\n",
       "      <td>4</td>\n",
       "      <td>1</td>\n",
       "      <td>118</td>\n",
       "      <td>21</td>\n",
       "      <td>62</td>\n",
       "    </tr>\n",
       "    <tr>\n",
       "      <th>3</th>\n",
       "      <td>1/4/16</td>\n",
       "      <td>52082</td>\n",
       "      <td>77</td>\n",
       "      <td>102</td>\n",
       "      <td>12</td>\n",
       "      <td>1</td>\n",
       "      <td>353</td>\n",
       "      <td>30</td>\n",
       "      <td>247</td>\n",
       "    </tr>\n",
       "    <tr>\n",
       "      <th>4</th>\n",
       "      <td>1/5/16</td>\n",
       "      <td>55670</td>\n",
       "      <td>78</td>\n",
       "      <td>87</td>\n",
       "      <td>7</td>\n",
       "      <td>1</td>\n",
       "      <td>350</td>\n",
       "      <td>30</td>\n",
       "      <td>242</td>\n",
       "    </tr>\n",
       "  </tbody>\n",
       "</table>\n",
       "</div>"
      ],
      "text/plain": [
       "     date   site  searchengine  directentry  otherwebsites  socialnetworks  \\\n",
       "0  1/1/16  24398            16           20              1               2   \n",
       "1  1/2/16  25723            20           15              4               0   \n",
       "2  1/3/16  30018            22           18              4               1   \n",
       "3  1/4/16  52082            77          102             12               1   \n",
       "4  1/5/16  55670            78           87              7               1   \n",
       "\n",
       "   cancertypes  donated   ra  \n",
       "0          110       28   57  \n",
       "1           90       33   52  \n",
       "2          118       21   62  \n",
       "3          353       30  247  \n",
       "4          350       30  242  "
      ]
     },
     "execution_count": 31,
     "metadata": {},
     "output_type": "execute_result"
    }
   ],
   "source": [
    "data.head()"
   ]
  },
  {
   "cell_type": "code",
   "execution_count": 32,
   "metadata": {
    "collapsed": false,
    "scrolled": true
   },
   "outputs": [
    {
     "data": {
      "text/plain": [
       "(93, 9)"
      ]
     },
     "execution_count": 32,
     "metadata": {},
     "output_type": "execute_result"
    }
   ],
   "source": [
    "data.shape"
   ]
  },
  {
   "cell_type": "code",
   "execution_count": 33,
   "metadata": {
    "collapsed": false
   },
   "outputs": [
    {
     "data": {
      "image/png": "[encoded data removed]",
      "text/plain": [
       "<matplotlib.figure.Figure at 0x11a998a10>"
      ]
     },
     "metadata": {},
     "output_type": "display_data"
    }
   ],
   "source": [
    "data.hist()\n",
    "plt.show()"
   ]
  },
  {
   "cell_type": "code",
   "execution_count": 34,
   "metadata": {
    "collapsed": false
   },
   "outputs": [
    {
     "data": {
      "text/html": [
       "<div>\n",
       "<table border=\"1\" class=\"dataframe\">\n",
       "  <thead>\n",
       "    <tr style=\"text-align: right;\">\n",
       "      <th></th>\n",
       "      <th>site</th>\n",
       "      <th>searchengine</th>\n",
       "      <th>directentry</th>\n",
       "      <th>otherwebsites</th>\n",
       "      <th>socialnetworks</th>\n",
       "      <th>cancertypes</th>\n",
       "      <th>donated</th>\n",
       "      <th>ra</th>\n",
       "    </tr>\n",
       "  </thead>\n",
       "  <tbody>\n",
       "    <tr>\n",
       "      <th>site</th>\n",
       "      <td>1.000000</td>\n",
       "      <td>0.460392</td>\n",
       "      <td>0.525106</td>\n",
       "      <td>0.434579</td>\n",
       "      <td>0.323692</td>\n",
       "      <td>0.479060</td>\n",
       "      <td>0.383583</td>\n",
       "      <td>0.571093</td>\n",
       "    </tr>\n",
       "    <tr>\n",
       "      <th>searchengine</th>\n",
       "      <td>0.460392</td>\n",
       "      <td>1.000000</td>\n",
       "      <td>0.965710</td>\n",
       "      <td>0.828317</td>\n",
       "      <td>0.590747</td>\n",
       "      <td>0.866196</td>\n",
       "      <td>0.392068</td>\n",
       "      <td>0.978897</td>\n",
       "    </tr>\n",
       "    <tr>\n",
       "      <th>directentry</th>\n",
       "      <td>0.525106</td>\n",
       "      <td>0.965710</td>\n",
       "      <td>1.000000</td>\n",
       "      <td>0.830758</td>\n",
       "      <td>0.599038</td>\n",
       "      <td>0.860911</td>\n",
       "      <td>0.398646</td>\n",
       "      <td>0.991921</td>\n",
       "    </tr>\n",
       "    <tr>\n",
       "      <th>otherwebsites</th>\n",
       "      <td>0.434579</td>\n",
       "      <td>0.828317</td>\n",
       "      <td>0.830758</td>\n",
       "      <td>1.000000</td>\n",
       "      <td>0.527521</td>\n",
       "      <td>0.749659</td>\n",
       "      <td>0.312174</td>\n",
       "      <td>0.841703</td>\n",
       "    </tr>\n",
       "    <tr>\n",
       "      <th>socialnetworks</th>\n",
       "      <td>0.323692</td>\n",
       "      <td>0.590747</td>\n",
       "      <td>0.599038</td>\n",
       "      <td>0.527521</td>\n",
       "      <td>1.000000</td>\n",
       "      <td>0.602143</td>\n",
       "      <td>0.164664</td>\n",
       "      <td>0.598908</td>\n",
       "    </tr>\n",
       "    <tr>\n",
       "      <th>cancertypes</th>\n",
       "      <td>0.479060</td>\n",
       "      <td>0.866196</td>\n",
       "      <td>0.860911</td>\n",
       "      <td>0.749659</td>\n",
       "      <td>0.602143</td>\n",
       "      <td>1.000000</td>\n",
       "      <td>0.370807</td>\n",
       "      <td>0.875027</td>\n",
       "    </tr>\n",
       "    <tr>\n",
       "      <th>donated</th>\n",
       "      <td>0.383583</td>\n",
       "      <td>0.392068</td>\n",
       "      <td>0.398646</td>\n",
       "      <td>0.312174</td>\n",
       "      <td>0.164664</td>\n",
       "      <td>0.370807</td>\n",
       "      <td>1.000000</td>\n",
       "      <td>0.414271</td>\n",
       "    </tr>\n",
       "    <tr>\n",
       "      <th>ra</th>\n",
       "      <td>0.571093</td>\n",
       "      <td>0.978897</td>\n",
       "      <td>0.991921</td>\n",
       "      <td>0.841703</td>\n",
       "      <td>0.598908</td>\n",
       "      <td>0.875027</td>\n",
       "      <td>0.414271</td>\n",
       "      <td>1.000000</td>\n",
       "    </tr>\n",
       "  </tbody>\n",
       "</table>\n",
       "</div>"
      ],
      "text/plain": [
       "                    site  searchengine  directentry  otherwebsites  \\\n",
       "site            1.000000      0.460392     0.525106       0.434579   \n",
       "searchengine    0.460392      1.000000     0.965710       0.828317   \n",
       "directentry     0.525106      0.965710     1.000000       0.830758   \n",
       "otherwebsites   0.434579      0.828317     0.830758       1.000000   \n",
       "socialnetworks  0.323692      0.590747     0.599038       0.527521   \n",
       "cancertypes     0.479060      0.866196     0.860911       0.749659   \n",
       "donated         0.383583      0.392068     0.398646       0.312174   \n",
       "ra              0.571093      0.978897     0.991921       0.841703   \n",
       "\n",
       "                socialnetworks  cancertypes   donated        ra  \n",
       "site                  0.323692     0.479060  0.383583  0.571093  \n",
       "searchengine          0.590747     0.866196  0.392068  0.978897  \n",
       "directentry           0.599038     0.860911  0.398646  0.991921  \n",
       "otherwebsites         0.527521     0.749659  0.312174  0.841703  \n",
       "socialnetworks        1.000000     0.602143  0.164664  0.598908  \n",
       "cancertypes           0.602143     1.000000  0.370807  0.875027  \n",
       "donated               0.164664     0.370807  1.000000  0.414271  \n",
       "ra                    0.598908     0.875027  0.414271  1.000000  "
      ]
     },
     "execution_count": 34,
     "metadata": {},
     "output_type": "execute_result"
    }
   ],
   "source": [
    "data.corr()"
   ]
  },
  {
   "cell_type": "code",
   "execution_count": 44,
   "metadata": {
    "collapsed": false
   },
   "outputs": [
    {
     "data": {
      "text/plain": [
       "<matplotlib.axes._subplots.AxesSubplot at 0x11a23ed10>"
      ]
     },
     "execution_count": 44,
     "metadata": {},
     "output_type": "execute_result"
    },
    {
     "data": {
      "image/png": "[encoded data removed]",
      "text/plain": [
       "<matplotlib.figure.Figure at 0x11c257d10>"
      ]
     },
     "metadata": {},
     "output_type": "display_data"
    }
   ],
   "source": [
    "fig, axs = plt.subplots(1, 4, sharey=True)\n",
    "data.plot(kind='scatter', x='searchengine', y='ra', ax=axs[0], figsize=(16, 8), color='r')\n",
    "data.plot(kind='scatter', x='directentry', y='ra', ax=axs[1], color='bblue')\n",
    "data.plot(kind='scatter', x='cancertypes', y='ra', ax=axs[2],color='blue')\n",
    "data.plot(kind='scatter', x='donated', y='ra', ax=axs[3],color='black')\n",
    "data.plot(kind='scatter', x='donated', y='ra', ax=axs[3],color='black')"
   ]
  },
  {
   "cell_type": "code",
   "execution_count": 41,
   "metadata": {
    "collapsed": false
   },
   "outputs": [
    {
     "data": {
      "text/html": [
       "<table class=\"simpletable\">\n",
       "<caption>OLS Regression Results</caption>\n",
       "<tr>\n",
       "  <th>Dep. Variable:</th>            <td>y</td>        <th>  R-squared:         </th> <td>   0.984</td>\n",
       "</tr>\n",
       "<tr>\n",
       "  <th>Model:</th>                   <td>OLS</td>       <th>  Adj. R-squared:    </th> <td>   0.984</td>\n",
       "</tr>\n",
       "<tr>\n",
       "  <th>Method:</th>             <td>Least Squares</td>  <th>  F-statistic:       </th> <td>   5564.</td>\n",
       "</tr>\n",
       "<tr>\n",
       "  <th>Date:</th>             <td>Thu, 21 Apr 2016</td> <th>  Prob (F-statistic):</th> <td>2.12e-83</td>\n",
       "</tr>\n",
       "<tr>\n",
       "  <th>Time:</th>                 <td>18:02:52</td>     <th>  Log-Likelihood:    </th> <td> -418.67</td>\n",
       "</tr>\n",
       "<tr>\n",
       "  <th>No. Observations:</th>      <td>    93</td>      <th>  AIC:               </th> <td>   841.3</td>\n",
       "</tr>\n",
       "<tr>\n",
       "  <th>Df Residuals:</th>          <td>    91</td>      <th>  BIC:               </th> <td>   846.4</td>\n",
       "</tr>\n",
       "<tr>\n",
       "  <th>Df Model:</th>              <td>     1</td>      <th>                     </th>     <td> </td>   \n",
       "</tr>\n",
       "<tr>\n",
       "  <th>Covariance Type:</th>      <td>nonrobust</td>    <th>                     </th>     <td> </td>   \n",
       "</tr>\n",
       "</table>\n",
       "<table class=\"simpletable\">\n",
       "<tr>\n",
       "      <td></td>         <th>coef</th>     <th>std err</th>      <th>t</th>      <th>P>|t|</th> <th>[95.0% Conf. Int.]</th> \n",
       "</tr>\n",
       "<tr>\n",
       "  <th>Intercept</th> <td>   37.7315</td> <td>    5.520</td> <td>    6.835</td> <td> 0.000</td> <td>   26.767    48.696</td>\n",
       "</tr>\n",
       "<tr>\n",
       "  <th>X</th>         <td>    1.8849</td> <td>    0.025</td> <td>   74.592</td> <td> 0.000</td> <td>    1.835     1.935</td>\n",
       "</tr>\n",
       "</table>\n",
       "<table class=\"simpletable\">\n",
       "<tr>\n",
       "  <th>Omnibus:</th>       <td> 4.573</td> <th>  Durbin-Watson:     </th> <td>   1.352</td>\n",
       "</tr>\n",
       "<tr>\n",
       "  <th>Prob(Omnibus):</th> <td> 0.102</td> <th>  Jarque-Bera (JB):  </th> <td>   2.285</td>\n",
       "</tr>\n",
       "<tr>\n",
       "  <th>Skew:</th>          <td>-0.006</td> <th>  Prob(JB):          </th> <td>   0.319</td>\n",
       "</tr>\n",
       "<tr>\n",
       "  <th>Kurtosis:</th>      <td> 2.232</td> <th>  Cond. No.          </th> <td>    527.</td>\n",
       "</tr>\n",
       "</table>"
      ],
      "text/plain": [
       "<class 'statsmodels.iolib.summary.Summary'>\n",
       "\"\"\"\n",
       "                            OLS Regression Results                            \n",
       "==============================================================================\n",
       "Dep. Variable:                      y   R-squared:                       0.984\n",
       "Model:                            OLS   Adj. R-squared:                  0.984\n",
       "Method:                 Least Squares   F-statistic:                     5564.\n",
       "Date:                Thu, 21 Apr 2016   Prob (F-statistic):           2.12e-83\n",
       "Time:                        18:02:52   Log-Likelihood:                -418.67\n",
       "No. Observations:                  93   AIC:                             841.3\n",
       "Df Residuals:                      91   BIC:                             846.4\n",
       "Df Model:                           1                                         \n",
       "Covariance Type:            nonrobust                                         \n",
       "==============================================================================\n",
       "                 coef    std err          t      P>|t|      [95.0% Conf. Int.]\n",
       "------------------------------------------------------------------------------\n",
       "Intercept     37.7315      5.520      6.835      0.000        26.767    48.696\n",
       "X              1.8849      0.025     74.592      0.000         1.835     1.935\n",
       "==============================================================================\n",
       "Omnibus:                        4.573   Durbin-Watson:                   1.352\n",
       "Prob(Omnibus):                  0.102   Jarque-Bera (JB):                2.285\n",
       "Skew:                          -0.006   Prob(JB):                        0.319\n",
       "Kurtosis:                       2.232   Cond. No.                         527.\n",
       "==============================================================================\n",
       "\n",
       "Warnings:\n",
       "[1] Standard Errors assume that the covariance matrix of the errors is correctly specified.\n",
       "\"\"\""
      ]
     },
     "execution_count": 41,
     "metadata": {},
     "output_type": "execute_result"
    }
   ],
   "source": [
    "import statsmodels.formula.api as smf\n",
    "X = data [['directentry']]\n",
    "y = data['ra']\n",
    "\n",
    "lm = smf.ols(formula='y ~ X', data=data).fit()\n",
    "lm.summary()\n",
    "\n"
   ]
  }
 ],
 "metadata": {
  "kernelspec": {
   "display_name": "Python 2",
   "language": "python",
   "name": "python2"
  },
  "language_info": {
   "codemirror_mode": {
    "name": "ipython",
    "version": 2
   },
   "file_extension": ".py",
   "mimetype": "text/x-python",
   "name": "python",
   "nbconvert_exporter": "python",
   "pygments_lexer": "ipython2",
   "version": "2.7.11"
  }
 },
 "nbformat": 4,
 "nbformat_minor": 0
}
