{
 "cells": [
  {
   "cell_type": "markdown",
   "metadata": {},
   "source": [
    "# Project 4\n",
    "\n",
    "In this project, you will summarize and present your analysis from Projects 1-3."
   ]
  },
  {
   "cell_type": "markdown",
   "metadata": {},
   "source": [
    "### Intro: Write a problem Statement/ Specific Aim for this project"
   ]
  },
  {
   "cell_type": "markdown",
   "metadata": {},
   "source": [
    "Answer: Determine how likely students with certain scores are admitted to UCLA grad program using data collected from their application (undergrad prestige/rank, GRE, GPA). Admit 1 = admitted and admit 0 = is not admitted. \n"
   ]
  },
  {
   "cell_type": "markdown",
   "metadata": {},
   "source": [
    "### Dataset:  Write up a description of your data and any cleaning that was completed"
   ]
  },
  {
   "cell_type": "markdown",
   "metadata": {},
   "source": [
    "Answer: The cross-sectional data set has a fairly normal distribution, after dropping values using dropna N (observations): 397 rows and 4 columns. Variables include GRE, GPA and Prestige, the target outcome is Admit. The limitation of the data set is not knowing when this data set was collected or for what graduate program they are applying for which may impact how the applicant is weighted. 50% of the applicants have a rank/prestige of 2."
   ]
  },
  {
   "cell_type": "markdown",
   "metadata": {
    "collapsed": true
   },
   "source": [
    "### Demo: Provide a table that explains the data by admission status"
   ]
  },
  {
   "cell_type": "markdown",
   "metadata": {},
   "source": [
    "Mean (STD) or counts by admission status for each variable \n",
    "\n",
    "| Not Admitted | Admitted\n",
    "---| ---|---\n",
    "GPA | 2.06  | 0.96\n",
    "GRE | 10.4 | 4.8\n",
    "Prestige 1 | frequency (%) | frequency (%)\n",
    "Prestige 2 | frequency (%) | frequency (%)\n",
    "Prestige 3 |frequency (%) | frequency (%)\n",
    "Prestige 4 |frequency (%) | frequency (%)"
   ]
  },
  {
   "cell_type": "markdown",
   "metadata": {},
   "source": [
    "### Methods: Write up the methods used in your analysis"
   ]
  },
  {
   "cell_type": "markdown",
   "metadata": {},
   "source": [
    "Answer: I end up starting with GPA and GRE descriptions. \n",
    "\n",
    "Part 1- print pd.crosstab(df['gpa'],df['admit']).describe()\n",
    "Part 2- print pd.crosstab(df['gre'],df['admit']).describe()\n",
    "\n",
    "Prestige was determined by using a frequency table. \n",
    "\n",
    "pd.crosstab(df_joined['admit'],df_joined['prestige_1.0'])\n",
    "pd.crosstab(df_joined['admit'],df_joined['prestige_2.0'])\n",
    "pd.crosstab(df_joined['admit'],df_joined['prestige_3.0'])\n",
    "pd.crosstab(df_joined['admit'],df_joined['prestige_4.0'])\n",
    "\n",
    "\n",
    "I kept getting some errors - will ask about this.\n"
   ]
  },
  {
   "cell_type": "markdown",
   "metadata": {},
   "source": [
    "### Results: Write up your results"
   ]
  },
  {
   "cell_type": "markdown",
   "metadata": {},
   "source": [
    "Answer: Following up on my resutls above*. "
   ]
  },
  {
   "cell_type": "markdown",
   "metadata": {},
   "source": [
    "### Visuals: Provide a table or visualization of these results"
   ]
  },
  {
   "cell_type": "markdown",
   "metadata": {},
   "source": [
    "<img src='placeholder.png' height= 25% width= 25%>"
   ]
  },
  {
   "cell_type": "markdown",
   "metadata": {},
   "source": [
    "<img src='placeholder.png' height= 25% width= 25%>"
   ]
  },
  {
   "cell_type": "markdown",
   "metadata": {},
   "source": [
    "### Discussion: Write up your discussion and future steps"
   ]
  },
  {
   "cell_type": "markdown",
   "metadata": {},
   "source": [
    "Answer: Still working on applying these methods, but ideally the results after the data is fully explore would allow you to set up the data for a regression and calculate the odds for whether a student is admitted. "
   ]
  }
 ],
 "metadata": {
  "kernelspec": {
   "display_name": "Python 2",
   "language": "python",
   "name": "python2"
  },
  "language_info": {
   "codemirror_mode": {
    "name": "ipython",
    "version": 2
   },
   "file_extension": ".py",
   "mimetype": "text/x-python",
   "name": "python",
   "nbconvert_exporter": "python",
   "pygments_lexer": "ipython2",
   "version": "2.7.11"
  }
 },
 "nbformat": 4,
 "nbformat_minor": 0
}
