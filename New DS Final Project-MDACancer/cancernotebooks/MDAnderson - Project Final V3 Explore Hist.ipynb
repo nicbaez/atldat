{
 "cells": [
  {
   "cell_type": "markdown",
   "metadata": {},
   "source": [
    "# MD Anderson - Site Engagement to Appointment Request"
   ]
  },
  {
   "cell_type": "markdown",
   "metadata": {},
   "source": [
    "Project Problem and Hypothesis"
   ]
  },
  {
   "cell_type": "markdown",
   "metadata": {},
   "source": [
    "What's the project about? What problem are you solving?\n",
    "\n",
    "Cancer reasearch publications, doctors and cancer survivors all agree and urge that early screening and detection is by far the most important driver to saving lives and easing cancer treatment. \n",
    "This project is using MD Anderson site traffic data to determine how to increase engagement with important conversion points on the site that drive referral and appointments. \n",
    "\n",
    "\n",
    "Where does this seem to reside as a machine learning problem? Are you predicting some continuous number, or predicting a binary value?\n",
    "\n",
    "Predicting a continuous number over a time series. I want to predict the relationship between the CTA (call to action) \"Request an Appointment\" and site traffic referral types (initially). \n",
    "\n",
    "\n",
    "\n",
    "What kind of impact do you think it could have?\n",
    "What do you think will have the most impact in predicting the value you are interested in solving for?\n",
    "\n",
    "I have recently been transferred to a new client, MD Anderson Research Center based in Houston and believe understanding the relationship between site traffice design, referral types and possibly testing more copy and CTA methods. "
   ]
  },
  {
   "cell_type": "markdown",
   "metadata": {},
   "source": [
    "Dataset"
   ]
  },
  {
   "cell_type": "code",
   "execution_count": 1,
   "metadata": {
    "collapsed": false,
    "scrolled": true
   },
   "outputs": [],
   "source": [
    "import pandas as pd\n",
    "import sklearn.linear_model as lm\n",
    "import matplotlib.pyplot as plt\n",
    "import pandas as pd\n",
    "from sklearn.linear_model import LogisticRegression\n",
    "import numpy as np\n",
    "import matplotlib.pyplot as plt\n",
    "import statsmodels.api as sm\n",
    "import pylab as pl\n",
    "from numpy.random import randn\n",
    "%matplotlib inline\n",
    "\n",
    "data = pd.read_csv('./omnituremda2.csv')\n"
   ]
  },
  {
   "cell_type": "code",
   "execution_count": 2,
   "metadata": {
    "collapsed": true
   },
   "outputs": [],
   "source": [
    "lm = LogisticRegression()"
   ]
  },
  {
   "cell_type": "code",
   "execution_count": 3,
   "metadata": {
    "collapsed": false
   },
   "outputs": [
    {
     "name": "stdout",
     "output_type": "stream",
     "text": [
      "     Date  Search Engine   Direct Entry   Cancer Type   RA\n",
      "0  1/1/16              16             20          110   57\n",
      "1  1/2/16              20             15           90   52\n",
      "2  1/3/16              22             18          118   62\n",
      "3  1/4/16              77            102          353  247\n",
      "4  1/5/16              78             87          350  242\n"
     ]
    }
   ],
   "source": [
    "print data.head()"
   ]
  },
  {
   "cell_type": "code",
   "execution_count": 15,
   "metadata": {
    "collapsed": false
   },
   "outputs": [
    {
     "data": {
      "text/plain": [
       "(93, 5)"
      ]
     },
     "execution_count": 15,
     "metadata": {},
     "output_type": "execute_result"
    }
   ],
   "source": [
    "data.shape"
   ]
  },
  {
   "cell_type": "code",
   "execution_count": 4,
   "metadata": {
    "collapsed": false
   },
   "outputs": [
    {
     "name": "stdout",
     "output_type": "stream",
     "text": [
      "       Search Engine   Direct Entry   Cancer Type          RA\n",
      "count       93.000000      93.000000    93.000000   93.000000\n",
      "mean       175.741935     198.806452   679.193548  412.462366\n",
      "std         73.638055      91.011855   273.996242  172.945679\n",
      "min         16.000000      15.000000    90.000000   52.000000\n",
      "25%         99.000000      99.000000   435.000000  222.000000\n",
      "50%        213.000000     248.000000   779.000000  519.000000\n",
      "75%        234.000000     272.000000   897.000000  555.000000\n",
      "max        285.000000     312.000000  1306.000000  616.000000\n"
     ]
    }
   ],
   "source": [
    "print data.describe()"
   ]
  },
  {
   "cell_type": "code",
   "execution_count": 5,
   "metadata": {
    "collapsed": false
   },
   "outputs": [
    {
     "data": {
      "text/html": [
       "<div>\n",
       "<table border=\"1\" class=\"dataframe\">\n",
       "  <thead>\n",
       "    <tr style=\"text-align: right;\">\n",
       "      <th></th>\n",
       "      <th>Search Engine</th>\n",
       "      <th>Direct Entry</th>\n",
       "      <th>Cancer Type</th>\n",
       "      <th>RA</th>\n",
       "    </tr>\n",
       "  </thead>\n",
       "  <tbody>\n",
       "    <tr>\n",
       "      <th>Search Engine</th>\n",
       "      <td>1.000000</td>\n",
       "      <td>0.965710</td>\n",
       "      <td>0.866196</td>\n",
       "      <td>0.978897</td>\n",
       "    </tr>\n",
       "    <tr>\n",
       "      <th>Direct Entry</th>\n",
       "      <td>0.965710</td>\n",
       "      <td>1.000000</td>\n",
       "      <td>0.860911</td>\n",
       "      <td>0.991921</td>\n",
       "    </tr>\n",
       "    <tr>\n",
       "      <th>Cancer Type</th>\n",
       "      <td>0.866196</td>\n",
       "      <td>0.860911</td>\n",
       "      <td>1.000000</td>\n",
       "      <td>0.875027</td>\n",
       "    </tr>\n",
       "    <tr>\n",
       "      <th>RA</th>\n",
       "      <td>0.978897</td>\n",
       "      <td>0.991921</td>\n",
       "      <td>0.875027</td>\n",
       "      <td>1.000000</td>\n",
       "    </tr>\n",
       "  </tbody>\n",
       "</table>\n",
       "</div>"
      ],
      "text/plain": [
       "                Search Engine   Direct Entry   Cancer Type        RA\n",
       "Search Engine         1.000000       0.965710     0.866196  0.978897\n",
       "Direct Entry          0.965710       1.000000     0.860911  0.991921\n",
       "Cancer Type           0.866196       0.860911     1.000000  0.875027\n",
       "RA                    0.978897       0.991921     0.875027  1.000000"
      ]
     },
     "execution_count": 5,
     "metadata": {},
     "output_type": "execute_result"
    }
   ],
   "source": [
    "data.corr()"
   ]
  },
  {
   "cell_type": "code",
   "execution_count": 6,
   "metadata": {
    "collapsed": false,
    "scrolled": true
   },
   "outputs": [
    {
     "data": {
      "image/png": "[encoded data removed]",
      "text/plain": [
       "<matplotlib.figure.Figure at 0x103ebfed0>"
      ]
     },
     "metadata": {},
     "output_type": "display_data"
    }
   ],
   "source": [
    "data.hist()\n",
    "pl.show()"
   ]
  },
  {
   "cell_type": "code",
   "execution_count": 7,
   "metadata": {
    "collapsed": false
   },
   "outputs": [
    {
     "data": {
      "image/png": "[encoded data removed]",
      "text/plain": [
       "<matplotlib.figure.Figure at 0x117274b90>"
      ]
     },
     "metadata": {},
     "output_type": "display_data"
    }
   ],
   "source": [
    "data.hist()\n",
    "pl.show()"
   ]
  },
  {
   "cell_type": "code",
   "execution_count": 37,
   "metadata": {
    "collapsed": true
   },
   "outputs": [],
   "source": [
    "import pandas as pd\n",
    "import matplotlib.pyplot as plt"
   ]
  },
  {
   "cell_type": "code",
   "execution_count": 9,
   "metadata": {
    "collapsed": false,
    "scrolled": false
   },
   "outputs": [
    {
     "data": {
      "text/plain": [
       "<matplotlib.axes._subplots.AxesSubplot at 0x11a121550>"
      ]
     },
     "execution_count": 9,
     "metadata": {},
     "output_type": "execute_result"
    },
    {
     "data": {
      "image/png": "[encoded data removed]",
      "text/plain": [
       "<matplotlib.figure.Figure at 0x11a138390>"
      ]
     },
     "metadata": {},
     "output_type": "display_data"
    }
   ],
   "source": [
    "data['RA'].plot(kind='box')"
   ]
  },
  {
   "cell_type": "code",
   "execution_count": 10,
   "metadata": {
    "collapsed": false
   },
   "outputs": [
    {
     "data": {
      "text/plain": [
       "<matplotlib.axes._subplots.AxesSubplot at 0x117274bd0>"
      ]
     },
     "execution_count": 10,
     "metadata": {},
     "output_type": "execute_result"
    },
    {
     "data": {
      "image/png": "[encoded data removed]",
      "text/plain": [
       "<matplotlib.figure.Figure at 0x11b43fdd0>"
      ]
     },
     "metadata": {},
     "output_type": "display_data"
    }
   ],
   "source": [
    "data['Cancer Type'].plot(kind='box')"
   ]
  },
  {
   "cell_type": "code",
   "execution_count": 12,
   "metadata": {
    "collapsed": false
   },
   "outputs": [
    {
     "data": {
      "text/plain": [
       "<bound method Series.mean of 0      57\n",
       "1      52\n",
       "2      62\n",
       "3     247\n",
       "4     242\n",
       "5     254\n",
       "6     278\n",
       "7     259\n",
       "8      87\n",
       "9     101\n",
       "10    297\n",
       "11    567\n",
       "12    531\n",
       "13    527\n",
       "14    487\n",
       "15    201\n",
       "16    181\n",
       "17    351\n",
       "18    594\n",
       "19    536\n",
       "20    527\n",
       "21    485\n",
       "22    196\n",
       "23    216\n",
       "24    616\n",
       "25    567\n",
       "26    587\n",
       "27    566\n",
       "28    524\n",
       "29    242\n",
       "     ... \n",
       "63    542\n",
       "64    215\n",
       "65    222\n",
       "66    603\n",
       "67    600\n",
       "68    574\n",
       "69    575\n",
       "70    545\n",
       "71    209\n",
       "72    226\n",
       "73    562\n",
       "74    553\n",
       "75    539\n",
       "76    498\n",
       "77    459\n",
       "78    212\n",
       "79    193\n",
       "80    575\n",
       "81    565\n",
       "82    551\n",
       "83    519\n",
       "84    382\n",
       "85    169\n",
       "86    155\n",
       "87    564\n",
       "88    561\n",
       "89    571\n",
       "90    530\n",
       "91    488\n",
       "92    190\n",
       "Name: RA, dtype: int64>"
      ]
     },
     "execution_count": 12,
     "metadata": {},
     "output_type": "execute_result"
    }
   ],
   "source": [
    "data['RA'].mean"
   ]
  },
  {
   "cell_type": "markdown",
   "metadata": {},
   "source": [
    "Domain knowledge"
   ]
  },
  {
   "cell_type": "markdown",
   "metadata": {},
   "source": [
    "What experience do you already have around this area?\n",
    "\n",
    "This will be the first project (client) I work on related to Cancer research. However, the goal is to understand how the results from the site traffic captured can impact how to iterate and explore content and site conversion strategy. \n"
   ]
  },
  {
   "cell_type": "markdown",
   "metadata": {},
   "source": [
    "Project Concerns"
   ]
  },
  {
   "cell_type": "markdown",
   "metadata": {},
   "source": [
    "What questions do you have about your project? What are you not sure you quite yet understand? \n",
    "\n",
    "Site traffic can be limited, I also just got access to the data so I need to approach the project with a narrow window to find actionable insights. \n"
   ]
  },
  {
   "cell_type": "markdown",
   "metadata": {},
   "source": [
    "Outcomes"
   ]
  },
  {
   "cell_type": "markdown",
   "metadata": {},
   "source": [
    "\n",
    "How complicated does your model have to be?\n",
    "\n",
    "Simplicity is key, this model would help guide strategy and design most. The goal is to distill the model down to actionable recommendations for landing page test ideas. \n",
    "\n",
    "How successful does your project have to be in order to be considered a \"success\"?\n",
    "\n",
    "Success means being able to predict varying behaviors for different women who have cancer and their access to healthcare because it will help idenitfy opportunties to drive the most effective awareness campaigns. \n",
    "\n",
    "What will you do if the project is a bust (this happens! but it shouldn't here)?\n",
    "\n",
    "There are some other features I can try to use if I find that there are no relationships between cancer patients and their lifestyle habits and access to healthcare. "
   ]
  }
 ],
 "metadata": {
  "kernelspec": {
   "display_name": "Python 2",
   "language": "python",
   "name": "python2"
  },
  "language_info": {
   "codemirror_mode": {
    "name": "ipython",
    "version": 2
   },
   "file_extension": ".py",
   "mimetype": "text/x-python",
   "name": "python",
   "nbconvert_exporter": "python",
   "pygments_lexer": "ipython2",
   "version": "2.7.11"
  }
 },
 "nbformat": 4,
 "nbformat_minor": 0
}
